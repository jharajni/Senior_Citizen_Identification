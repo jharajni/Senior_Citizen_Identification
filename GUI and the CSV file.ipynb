{
 "cells": [
  {
   "cell_type": "markdown",
   "id": "df1cdff7-777b-4e52-9a22-858848d72c76",
   "metadata": {},
   "source": [
    "## GUI and the csv file"
   ]
  },
  {
   "cell_type": "code",
   "execution_count": 16,
   "id": "c3adf472-bdef-4bba-98d5-5d1b9fbdf83c",
   "metadata": {},
   "outputs": [],
   "source": [
    "import sys\n",
    "from PyQt5.QtWidgets import QApplication, QWidget, QLabel, QVBoxLayout, QPushButton, QFileDialog\n",
    "from PyQt5.QtCore import Qt\n",
    "from PyQt5.QtGui import QPixmap\n",
    "from keras import models\n",
    "from PIL import Image\n",
    "import numpy as np\n",
    "import pandas as pd\n",
    "import os"
   ]
  },
  {
   "cell_type": "markdown",
   "id": "98d6f22d-1ec6-41ec-86d4-7fe14fc625c8",
   "metadata": {},
   "source": [
    "## Load the pre-trained model"
   ]
  },
  {
   "cell_type": "code",
   "execution_count": 26,
   "id": "427b318f-4f22-4eba-88ac-b5ea2b59df53",
   "metadata": {},
   "outputs": [
    {
     "name": "stdout",
     "output_type": "stream",
     "text": [
      "\u001b[1m1/1\u001b[0m \u001b[32m━━━━━━━━━━━━━━━━━━━━\u001b[0m\u001b[37m\u001b[0m \u001b[1m1s\u001b[0m 972ms/step\n"
     ]
    },
    {
     "name": "stderr",
     "output_type": "stream",
     "text": [
      "C:\\Users\\jhara\\AppData\\Local\\Temp\\ipykernel_24756\\200095177.py:8: DeprecationWarning: Conversion of an array with ndim > 0 to a scalar is deprecated, and will error in future. Ensure you extract a single element from your array before performing this operation. (Deprecated NumPy 1.25.)\n",
      "  age = int(np.round(pred[1][0])) if pred[1].ndim > 0 else int(pred[1])\n"
     ]
    },
    {
     "name": "stdout",
     "output_type": "stream",
     "text": [
      "\u001b[1m1/1\u001b[0m \u001b[32m━━━━━━━━━━━━━━━━━━━━\u001b[0m\u001b[37m\u001b[0m \u001b[1m0s\u001b[0m 35ms/step\n"
     ]
    },
    {
     "name": "stderr",
     "output_type": "stream",
     "text": [
      "C:\\Users\\jhara\\AppData\\Local\\Temp\\ipykernel_24756\\200095177.py:8: DeprecationWarning: Conversion of an array with ndim > 0 to a scalar is deprecated, and will error in future. Ensure you extract a single element from your array before performing this operation. (Deprecated NumPy 1.25.)\n",
      "  age = int(np.round(pred[1][0])) if pred[1].ndim > 0 else int(pred[1])\n"
     ]
    },
    {
     "name": "stdout",
     "output_type": "stream",
     "text": [
      "\u001b[1m1/1\u001b[0m \u001b[32m━━━━━━━━━━━━━━━━━━━━\u001b[0m\u001b[37m\u001b[0m \u001b[1m0s\u001b[0m 27ms/step\n"
     ]
    },
    {
     "name": "stderr",
     "output_type": "stream",
     "text": [
      "C:\\Users\\jhara\\AppData\\Local\\Temp\\ipykernel_24756\\200095177.py:8: DeprecationWarning: Conversion of an array with ndim > 0 to a scalar is deprecated, and will error in future. Ensure you extract a single element from your array before performing this operation. (Deprecated NumPy 1.25.)\n",
      "  age = int(np.round(pred[1][0])) if pred[1].ndim > 0 else int(pred[1])\n"
     ]
    },
    {
     "name": "stdout",
     "output_type": "stream",
     "text": [
      "\u001b[1m1/1\u001b[0m \u001b[32m━━━━━━━━━━━━━━━━━━━━\u001b[0m\u001b[37m\u001b[0m \u001b[1m0s\u001b[0m 31ms/step\n"
     ]
    },
    {
     "name": "stderr",
     "output_type": "stream",
     "text": [
      "C:\\Users\\jhara\\AppData\\Local\\Temp\\ipykernel_24756\\200095177.py:8: DeprecationWarning: Conversion of an array with ndim > 0 to a scalar is deprecated, and will error in future. Ensure you extract a single element from your array before performing this operation. (Deprecated NumPy 1.25.)\n",
      "  age = int(np.round(pred[1][0])) if pred[1].ndim > 0 else int(pred[1])\n"
     ]
    },
    {
     "name": "stdout",
     "output_type": "stream",
     "text": [
      "\u001b[1m1/1\u001b[0m \u001b[32m━━━━━━━━━━━━━━━━━━━━\u001b[0m\u001b[37m\u001b[0m \u001b[1m0s\u001b[0m 39ms/step\n"
     ]
    },
    {
     "name": "stderr",
     "output_type": "stream",
     "text": [
      "C:\\Users\\jhara\\AppData\\Local\\Temp\\ipykernel_24756\\200095177.py:8: DeprecationWarning: Conversion of an array with ndim > 0 to a scalar is deprecated, and will error in future. Ensure you extract a single element from your array before performing this operation. (Deprecated NumPy 1.25.)\n",
      "  age = int(np.round(pred[1][0])) if pred[1].ndim > 0 else int(pred[1])\n"
     ]
    },
    {
     "ename": "SystemExit",
     "evalue": "0",
     "output_type": "error",
     "traceback": [
      "An exception has occurred, use %tb to see the full traceback.\n",
      "\u001b[1;31mSystemExit\u001b[0m\u001b[1;31m:\u001b[0m 0\n"
     ]
    },
    {
     "name": "stderr",
     "output_type": "stream",
     "text": [
      "C:\\Users\\jhara\\AppData\\Local\\Programs\\Python\\Python311\\Lib\\site-packages\\IPython\\core\\interactiveshell.py:3585: UserWarning: To exit: use 'exit', 'quit', or Ctrl-D.\n",
      "  warn(\"To exit: use 'exit', 'quit', or Ctrl-D.\", stacklevel=1)\n"
     ]
    }
   ],
   "source": [
    "model = models.load_model('Age_Gender_Detection.keras')\n",
    "\n",
    "def predict_age_gender(image):\n",
    "    image = image.astype('float32') / 255.0  \n",
    "    image = np.expand_dims(image, axis=0)  \n",
    "    pred = model.predict(image)\n",
    "    \n",
    "    age = int(np.round(pred[1][0])) if pred[1].ndim > 0 else int(pred[1])\n",
    "    gender = \"Female\" if pred[0][0] > 0.5 else \"Male\"  \n",
    "    return age, gender\n",
    "\n",
    "def save_to_csv(age, gender, is_senior):\n",
    "    csv_file_path = 'senior_citizens_log.csv'\n",
    "    new_data = pd.DataFrame({\n",
    "        'Age': [age],\n",
    "        'Gender': [gender],\n",
    "        'Senior Citizen': [is_senior]\n",
    "    })\n",
    "\n",
    "    if os.path.isfile(csv_file_path):\n",
    "        data = pd.read_csv(csv_file_path)\n",
    "        data = pd.concat([data, new_data], ignore_index=True)\n",
    "    else:\n",
    "        data = new_data\n",
    "    \n",
    "    data.to_csv(csv_file_path, index=False)\n",
    "\n",
    "class AgeGenderDetectorApp(QWidget):\n",
    "    def __init__(self):\n",
    "        super().__init__()\n",
    "        self.setWindowTitle(\"AGE & GENDER DETECTOR\")\n",
    "        self.setGeometry(100, 100, 600, 800)\n",
    "        self.setStyleSheet(\"background-color: #1ABC9C;\")\n",
    "\n",
    "        self.heading = QLabel(\"AGE & GENDER DETECTOR\", self)\n",
    "        self.heading.setStyleSheet(\"font: bold 30px Arial; color: #FFFFFF; padding: 20px;\")\n",
    "        self.heading.setAlignment(Qt.AlignCenter)\n",
    "\n",
    "        self.image_label = QLabel(self)\n",
    "        self.image_label.setStyleSheet(\"background-color: #1ABC9C; font: bold 15px Arial;\")\n",
    "        self.image_label.setAlignment(Qt.AlignCenter)\n",
    "\n",
    "        self.label1 = QLabel(self)\n",
    "        self.label1.setStyleSheet(\"background-color: #1ABC9C; font: bold 15px Arial;\")\n",
    "        self.label1.setAlignment(Qt.AlignCenter)\n",
    "\n",
    "        self.label2 = QLabel(self)\n",
    "        self.label2.setStyleSheet(\"background-color: #1ABC9C; font: bold 15px Arial;\")\n",
    "        self.label2.setAlignment(Qt.AlignCenter)\n",
    "\n",
    "        self.layout = QVBoxLayout()\n",
    "        self.layout.addWidget(self.heading)\n",
    "        self.layout.addWidget(self.image_label)\n",
    "        self.layout.addWidget(self.label1)\n",
    "        self.layout.addWidget(self.label2)\n",
    "\n",
    "        self.upload_button = QPushButton(\"Upload an Image\", self)\n",
    "        self.upload_button.setStyleSheet(\"background-color: #364156; color: white; font: bold 15px; padding: 10px;\")\n",
    "        self.upload_button.clicked.connect(self.upload_image)\n",
    "        self.layout.addWidget(self.upload_button)\n",
    "\n",
    "        self.setLayout(self.layout)\n",
    "\n",
    "    def upload_image(self):\n",
    "        file_path, _ = QFileDialog.getOpenFileName(self, \"Upload Image\", \"\", \"Image Files (*.png *.jpg *.jpeg)\")\n",
    "        if file_path:\n",
    "            pixmap = QPixmap(file_path)\n",
    "            self.image_label.setPixmap(pixmap.scaled(400, 400, Qt.KeepAspectRatio))\n",
    "            self.detect_image(file_path)\n",
    "\n",
    "    def detect_image(self, file_path):\n",
    "        image = Image.open(file_path).resize((48, 48))\n",
    "        image = np.array(image)\n",
    "\n",
    "        age, gender = predict_age_gender(image)\n",
    "        \n",
    "        is_senior = age >= 60 \n",
    "\n",
    "        #### Updating the labels with their respective prediction\n",
    "        self.label1.setText(f\"Predicted Age: {age}\")\n",
    "        self.label2.setText(f\"Predicted Gender: {gender}, Senior Citizen: {is_senior}\")\n",
    "\n",
    "        #### Saving the data in a csv file \n",
    "        save_to_csv(age, gender, is_senior)\n",
    "\n",
    "    def save_to_csv(age, gender, is_senior):\n",
    "        ### here we will define the file name and columns\n",
    "        file_name = 'senior_citizens_log.csv'\n",
    "        columns = ['Age', 'Gender', 'Senior Citizen']\n",
    "        \n",
    "        #### Checking if the csv file is existing or not \n",
    "        if os.path.exists(file_name):\n",
    "            data = pd.read_csv(file_name)\n",
    "        else:\n",
    "            data = pd.DataFrame(columns=columns)\n",
    "    \n",
    "        ### This will create a new dataframe for the new row \n",
    "        new_data = pd.DataFrame([{\n",
    "            'Age': age,\n",
    "            'Gender': gender,\n",
    "            'Senior Citizen': is_senior\n",
    "        }])\n",
    "        \n",
    "        #### this particular line will concatenate the new data with the existing one \n",
    "        data = pd.concat([data, new_data], ignore_index=True)\n",
    "        \n",
    "        data.to_csv(file_name, index=False)\n",
    "if __name__ == \"__main__\":\n",
    "    app = QApplication(sys.argv)\n",
    "    window = AgeGenderDetectorApp()\n",
    "    window.show()\n",
    "    sys.exit(app.exec_())\n"
   ]
  },
  {
   "cell_type": "code",
   "execution_count": null,
   "id": "b39e54f3-cd03-4df3-800c-5ac01216ba03",
   "metadata": {},
   "outputs": [],
   "source": []
  }
 ],
 "metadata": {
  "kernelspec": {
   "display_name": "Python 3 (ipykernel)",
   "language": "python",
   "name": "python3"
  },
  "language_info": {
   "codemirror_mode": {
    "name": "ipython",
    "version": 3
   },
   "file_extension": ".py",
   "mimetype": "text/x-python",
   "name": "python",
   "nbconvert_exporter": "python",
   "pygments_lexer": "ipython3",
   "version": "3.11.1"
  }
 },
 "nbformat": 4,
 "nbformat_minor": 5
}
